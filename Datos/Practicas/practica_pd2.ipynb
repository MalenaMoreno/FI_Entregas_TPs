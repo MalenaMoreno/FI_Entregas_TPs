{
 "cells": [
  {
   "cell_type": "code",
   "execution_count": null,
   "metadata": {},
   "outputs": [],
   "source": []
  }
 ],
 "metadata": {
  "kernelspec": {
   "display_name": "Python 3.9.12 ('base')",
   "language": "python",
   "name": "python3"
  },
  "language_info": {
   "name": "python",
   "version": "3.9.12"
  },
  "orig_nbformat": 4,
  "vscode": {
   "interpreter": {
    "hash": "8b0f505fabd6c36ce43b4c32e30a0f2cb75901019f94ac08add103aa25db207c"
   }
  }
 },
 "nbformat": 4,
 "nbformat_minor": 2
}
